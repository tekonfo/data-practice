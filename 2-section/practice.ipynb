{
 "metadata": {
  "language_info": {
   "codemirror_mode": {
    "name": "ipython",
    "version": 3
   },
   "file_extension": ".py",
   "mimetype": "text/x-python",
   "name": "python",
   "nbconvert_exporter": "python",
   "pygments_lexer": "ipython3",
   "version": "3.7.7-final"
  },
  "orig_nbformat": 2,
  "kernelspec": {
   "name": "python37764bithomeworkconda7dc9957b9a5b44f2b178b768d53a7bcf",
   "display_name": "Python 3.7.7 64-bit ('homework': conda)",
   "language": "python"
  }
 },
 "nbformat": 4,
 "nbformat_minor": 2,
 "cells": [
  {
   "cell_type": "code",
   "execution_count": 2,
   "metadata": {},
   "outputs": [],
   "source": [
    "import pandas as pd"
   ]
  },
  {
   "cell_type": "code",
   "execution_count": 3,
   "metadata": {},
   "outputs": [],
   "source": [
    "uriage_data = pd.read_csv('uriage.csv')\n",
    "kokyaku_data = pd.read_excel('kokyaku_daicho.xlsx', engine='openpyxl')"
   ]
  },
  {
   "cell_type": "code",
   "execution_count": 4,
   "metadata": {},
   "outputs": [
    {
     "output_type": "execute_result",
     "data": {
      "text/plain": [
       "         purchase_date item_name  item_price customer_name\n",
       "0  2019-06-13 18:02:34       商品A       100.0         深井菜々美\n",
       "1  2019-07-13 13:05:29     商 品 S         NaN          浅田賢二\n",
       "2  2019-05-11 19:42:07     商 品 a         NaN          南部慶二\n",
       "3  2019-02-12 23:40:45       商品Z      2600.0          麻生莉緒\n",
       "4  2019-04-22 03:09:35       商品a         NaN          平田鉄二"
      ],
      "text/html": "<div>\n<style scoped>\n    .dataframe tbody tr th:only-of-type {\n        vertical-align: middle;\n    }\n\n    .dataframe tbody tr th {\n        vertical-align: top;\n    }\n\n    .dataframe thead th {\n        text-align: right;\n    }\n</style>\n<table border=\"1\" class=\"dataframe\">\n  <thead>\n    <tr style=\"text-align: right;\">\n      <th></th>\n      <th>purchase_date</th>\n      <th>item_name</th>\n      <th>item_price</th>\n      <th>customer_name</th>\n    </tr>\n  </thead>\n  <tbody>\n    <tr>\n      <th>0</th>\n      <td>2019-06-13 18:02:34</td>\n      <td>商品A</td>\n      <td>100.0</td>\n      <td>深井菜々美</td>\n    </tr>\n    <tr>\n      <th>1</th>\n      <td>2019-07-13 13:05:29</td>\n      <td>商 品 S</td>\n      <td>NaN</td>\n      <td>浅田賢二</td>\n    </tr>\n    <tr>\n      <th>2</th>\n      <td>2019-05-11 19:42:07</td>\n      <td>商 品 a</td>\n      <td>NaN</td>\n      <td>南部慶二</td>\n    </tr>\n    <tr>\n      <th>3</th>\n      <td>2019-02-12 23:40:45</td>\n      <td>商品Z</td>\n      <td>2600.0</td>\n      <td>麻生莉緒</td>\n    </tr>\n    <tr>\n      <th>4</th>\n      <td>2019-04-22 03:09:35</td>\n      <td>商品a</td>\n      <td>NaN</td>\n      <td>平田鉄二</td>\n    </tr>\n  </tbody>\n</table>\n</div>"
     },
     "metadata": {},
     "execution_count": 4
    }
   ],
   "source": [
    "uriage_data.head()"
   ]
  },
  {
   "cell_type": "code",
   "execution_count": 5,
   "metadata": {},
   "outputs": [
    {
     "output_type": "execute_result",
     "data": {
      "text/plain": [
       "      顧客名        かな  地域                     メールアドレス         登録日\n",
       "0   須賀ひとみ    すが ひとみ  H市     suga_hitomi@example.com  2018/01/04\n",
       "1  岡田　 敏也   おかだ としや  E市   okada_toshiya@example.com       42782\n",
       "2    芳賀 希    はが のぞみ  A市     haga_nozomi@example.com  2018/01/07\n",
       "3   荻野  愛    おぎの あい  F市        ogino_ai@example.com       42872\n",
       "4   栗田 憲一  くりた けんいち  E市  kurita_kenichi@example.com       43127"
      ],
      "text/html": "<div>\n<style scoped>\n    .dataframe tbody tr th:only-of-type {\n        vertical-align: middle;\n    }\n\n    .dataframe tbody tr th {\n        vertical-align: top;\n    }\n\n    .dataframe thead th {\n        text-align: right;\n    }\n</style>\n<table border=\"1\" class=\"dataframe\">\n  <thead>\n    <tr style=\"text-align: right;\">\n      <th></th>\n      <th>顧客名</th>\n      <th>かな</th>\n      <th>地域</th>\n      <th>メールアドレス</th>\n      <th>登録日</th>\n    </tr>\n  </thead>\n  <tbody>\n    <tr>\n      <th>0</th>\n      <td>須賀ひとみ</td>\n      <td>すが ひとみ</td>\n      <td>H市</td>\n      <td>suga_hitomi@example.com</td>\n      <td>2018/01/04</td>\n    </tr>\n    <tr>\n      <th>1</th>\n      <td>岡田　 敏也</td>\n      <td>おかだ としや</td>\n      <td>E市</td>\n      <td>okada_toshiya@example.com</td>\n      <td>42782</td>\n    </tr>\n    <tr>\n      <th>2</th>\n      <td>芳賀 希</td>\n      <td>はが のぞみ</td>\n      <td>A市</td>\n      <td>haga_nozomi@example.com</td>\n      <td>2018/01/07</td>\n    </tr>\n    <tr>\n      <th>3</th>\n      <td>荻野  愛</td>\n      <td>おぎの あい</td>\n      <td>F市</td>\n      <td>ogino_ai@example.com</td>\n      <td>42872</td>\n    </tr>\n    <tr>\n      <th>4</th>\n      <td>栗田 憲一</td>\n      <td>くりた けんいち</td>\n      <td>E市</td>\n      <td>kurita_kenichi@example.com</td>\n      <td>43127</td>\n    </tr>\n  </tbody>\n</table>\n</div>"
     },
     "metadata": {},
     "execution_count": 5
    }
   ],
   "source": [
    "kokyaku_data.head()"
   ]
  },
  {
   "cell_type": "code",
   "execution_count": 8,
   "metadata": {},
   "outputs": [
    {
     "output_type": "execute_result",
     "data": {
      "text/plain": [
       "item_name         商品W   商 品 n   商品E   商品M   商品P   商品S   商品W   商品X  商  品O  \\\n",
       "purchase_month                                                             \n",
       "201901              0       1     0     0     0     0     0     0      0   \n",
       "201902              0       0     0     0     0     0     0     1      0   \n",
       "201903              0       0     1     1     1     0     0     0      0   \n",
       "201904              1       0     0     0     0     0     0     0      0   \n",
       "201905              0       0     0     0     0     1     0     0      0   \n",
       "201906              0       0     0     0     0     0     1     0      0   \n",
       "201907              0       0     0     0     0     0     0     0      1   \n",
       "\n",
       "item_name       商  品Q  ...  商品k  商品l  商品o  商品p  商品r  商品s  商品t  商品v  商品x  商品y  \n",
       "purchase_month         ...                                                    \n",
       "201901              0  ...    1    1    1    0    0    0    0    0    0    0  \n",
       "201902              0  ...    0    0    0    0    0    1    1    1    0    0  \n",
       "201903              0  ...    0    0    0    0    0    0    0    0    0    0  \n",
       "201904              1  ...    0    0    0    0    0    1    0    0    0    0  \n",
       "201905              0  ...    0    1    0    0    0    0    0    0    0    1  \n",
       "201906              0  ...    0    0    0    1    0    0    0    0    1    0  \n",
       "201907              0  ...    0    0    1    0    2    0    0    0    0    0  \n",
       "\n",
       "[7 rows x 99 columns]"
      ],
      "text/html": "<div>\n<style scoped>\n    .dataframe tbody tr th:only-of-type {\n        vertical-align: middle;\n    }\n\n    .dataframe tbody tr th {\n        vertical-align: top;\n    }\n\n    .dataframe thead th {\n        text-align: right;\n    }\n</style>\n<table border=\"1\" class=\"dataframe\">\n  <thead>\n    <tr style=\"text-align: right;\">\n      <th>item_name</th>\n      <th>商品W</th>\n      <th>商 品 n</th>\n      <th>商品E</th>\n      <th>商品M</th>\n      <th>商品P</th>\n      <th>商品S</th>\n      <th>商品W</th>\n      <th>商品X</th>\n      <th>商  品O</th>\n      <th>商  品Q</th>\n      <th>...</th>\n      <th>商品k</th>\n      <th>商品l</th>\n      <th>商品o</th>\n      <th>商品p</th>\n      <th>商品r</th>\n      <th>商品s</th>\n      <th>商品t</th>\n      <th>商品v</th>\n      <th>商品x</th>\n      <th>商品y</th>\n    </tr>\n    <tr>\n      <th>purchase_month</th>\n      <th></th>\n      <th></th>\n      <th></th>\n      <th></th>\n      <th></th>\n      <th></th>\n      <th></th>\n      <th></th>\n      <th></th>\n      <th></th>\n      <th></th>\n      <th></th>\n      <th></th>\n      <th></th>\n      <th></th>\n      <th></th>\n      <th></th>\n      <th></th>\n      <th></th>\n      <th></th>\n      <th></th>\n    </tr>\n  </thead>\n  <tbody>\n    <tr>\n      <th>201901</th>\n      <td>0</td>\n      <td>1</td>\n      <td>0</td>\n      <td>0</td>\n      <td>0</td>\n      <td>0</td>\n      <td>0</td>\n      <td>0</td>\n      <td>0</td>\n      <td>0</td>\n      <td>...</td>\n      <td>1</td>\n      <td>1</td>\n      <td>1</td>\n      <td>0</td>\n      <td>0</td>\n      <td>0</td>\n      <td>0</td>\n      <td>0</td>\n      <td>0</td>\n      <td>0</td>\n    </tr>\n    <tr>\n      <th>201902</th>\n      <td>0</td>\n      <td>0</td>\n      <td>0</td>\n      <td>0</td>\n      <td>0</td>\n      <td>0</td>\n      <td>0</td>\n      <td>1</td>\n      <td>0</td>\n      <td>0</td>\n      <td>...</td>\n      <td>0</td>\n      <td>0</td>\n      <td>0</td>\n      <td>0</td>\n      <td>0</td>\n      <td>1</td>\n      <td>1</td>\n      <td>1</td>\n      <td>0</td>\n      <td>0</td>\n    </tr>\n    <tr>\n      <th>201903</th>\n      <td>0</td>\n      <td>0</td>\n      <td>1</td>\n      <td>1</td>\n      <td>1</td>\n      <td>0</td>\n      <td>0</td>\n      <td>0</td>\n      <td>0</td>\n      <td>0</td>\n      <td>...</td>\n      <td>0</td>\n      <td>0</td>\n      <td>0</td>\n      <td>0</td>\n      <td>0</td>\n      <td>0</td>\n      <td>0</td>\n      <td>0</td>\n      <td>0</td>\n      <td>0</td>\n    </tr>\n    <tr>\n      <th>201904</th>\n      <td>1</td>\n      <td>0</td>\n      <td>0</td>\n      <td>0</td>\n      <td>0</td>\n      <td>0</td>\n      <td>0</td>\n      <td>0</td>\n      <td>0</td>\n      <td>1</td>\n      <td>...</td>\n      <td>0</td>\n      <td>0</td>\n      <td>0</td>\n      <td>0</td>\n      <td>0</td>\n      <td>1</td>\n      <td>0</td>\n      <td>0</td>\n      <td>0</td>\n      <td>0</td>\n    </tr>\n    <tr>\n      <th>201905</th>\n      <td>0</td>\n      <td>0</td>\n      <td>0</td>\n      <td>0</td>\n      <td>0</td>\n      <td>1</td>\n      <td>0</td>\n      <td>0</td>\n      <td>0</td>\n      <td>0</td>\n      <td>...</td>\n      <td>0</td>\n      <td>1</td>\n      <td>0</td>\n      <td>0</td>\n      <td>0</td>\n      <td>0</td>\n      <td>0</td>\n      <td>0</td>\n      <td>0</td>\n      <td>1</td>\n    </tr>\n    <tr>\n      <th>201906</th>\n      <td>0</td>\n      <td>0</td>\n      <td>0</td>\n      <td>0</td>\n      <td>0</td>\n      <td>0</td>\n      <td>1</td>\n      <td>0</td>\n      <td>0</td>\n      <td>0</td>\n      <td>...</td>\n      <td>0</td>\n      <td>0</td>\n      <td>0</td>\n      <td>1</td>\n      <td>0</td>\n      <td>0</td>\n      <td>0</td>\n      <td>0</td>\n      <td>1</td>\n      <td>0</td>\n    </tr>\n    <tr>\n      <th>201907</th>\n      <td>0</td>\n      <td>0</td>\n      <td>0</td>\n      <td>0</td>\n      <td>0</td>\n      <td>0</td>\n      <td>0</td>\n      <td>0</td>\n      <td>1</td>\n      <td>0</td>\n      <td>...</td>\n      <td>0</td>\n      <td>0</td>\n      <td>1</td>\n      <td>0</td>\n      <td>2</td>\n      <td>0</td>\n      <td>0</td>\n      <td>0</td>\n      <td>0</td>\n      <td>0</td>\n    </tr>\n  </tbody>\n</table>\n<p>7 rows × 99 columns</p>\n</div>"
     },
     "metadata": {},
     "execution_count": 8
    }
   ],
   "source": [
    "uriage_data['purchase_date'] = pd.to_datetime(uriage_data['purchase_date'])\n",
    "uriage_data['purchase_month'] = uriage_data['purchase_date'].dt.strftime('%Y%m')\n",
    "uriage_data.pivot_table(index='purchase_month', columns='item_name', aggfunc='size', fill_value=0)"
   ]
  },
  {
   "cell_type": "code",
   "execution_count": 9,
   "metadata": {},
   "outputs": [
    {
     "output_type": "execute_result",
     "data": {
      "text/plain": [
       "item_name         商品W   商 品 n   商品E   商品M   商品P   商品S   商品W   商品X  商  品O  \\\n",
       "purchase_month                                                             \n",
       "201901              0    1400     0     0     0     0     0     0      0   \n",
       "201902              0       0     0     0     0     0     0  2400      0   \n",
       "201903              0       0   500  1300  1600     0     0     0      0   \n",
       "201904           2300       0     0     0     0     0     0     0      0   \n",
       "201905              0       0     0     0     0  1900     0     0      0   \n",
       "201906              0       0     0     0     0     0  2300     0      0   \n",
       "201907              0       0     0     0     0     0     0     0      0   \n",
       "\n",
       "item_name       商  品Q  ...   商品k   商品l   商品o   商品p   商品r   商品s   商品t   商品v  \\\n",
       "purchase_month         ...                                                   \n",
       "201901              0  ...  1100  1200  1500     0     0     0     0     0   \n",
       "201902              0  ...     0     0     0     0     0  1900  2000  2200   \n",
       "201903              0  ...     0     0     0     0     0     0     0     0   \n",
       "201904           1700  ...     0     0     0     0     0  1900     0     0   \n",
       "201905              0  ...     0  1200     0     0     0     0     0     0   \n",
       "201906              0  ...     0     0     0  1600     0     0     0     0   \n",
       "201907              0  ...     0     0  1500     0  1800     0     0     0   \n",
       "\n",
       "item_name        商品x   商品y  \n",
       "purchase_month              \n",
       "201901             0     0  \n",
       "201902             0     0  \n",
       "201903             0     0  \n",
       "201904             0     0  \n",
       "201905             0  2500  \n",
       "201906          2400     0  \n",
       "201907             0     0  \n",
       "\n",
       "[7 rows x 99 columns]"
      ],
      "text/html": "<div>\n<style scoped>\n    .dataframe tbody tr th:only-of-type {\n        vertical-align: middle;\n    }\n\n    .dataframe tbody tr th {\n        vertical-align: top;\n    }\n\n    .dataframe thead th {\n        text-align: right;\n    }\n</style>\n<table border=\"1\" class=\"dataframe\">\n  <thead>\n    <tr style=\"text-align: right;\">\n      <th>item_name</th>\n      <th>商品W</th>\n      <th>商 品 n</th>\n      <th>商品E</th>\n      <th>商品M</th>\n      <th>商品P</th>\n      <th>商品S</th>\n      <th>商品W</th>\n      <th>商品X</th>\n      <th>商  品O</th>\n      <th>商  品Q</th>\n      <th>...</th>\n      <th>商品k</th>\n      <th>商品l</th>\n      <th>商品o</th>\n      <th>商品p</th>\n      <th>商品r</th>\n      <th>商品s</th>\n      <th>商品t</th>\n      <th>商品v</th>\n      <th>商品x</th>\n      <th>商品y</th>\n    </tr>\n    <tr>\n      <th>purchase_month</th>\n      <th></th>\n      <th></th>\n      <th></th>\n      <th></th>\n      <th></th>\n      <th></th>\n      <th></th>\n      <th></th>\n      <th></th>\n      <th></th>\n      <th></th>\n      <th></th>\n      <th></th>\n      <th></th>\n      <th></th>\n      <th></th>\n      <th></th>\n      <th></th>\n      <th></th>\n      <th></th>\n      <th></th>\n    </tr>\n  </thead>\n  <tbody>\n    <tr>\n      <th>201901</th>\n      <td>0</td>\n      <td>1400</td>\n      <td>0</td>\n      <td>0</td>\n      <td>0</td>\n      <td>0</td>\n      <td>0</td>\n      <td>0</td>\n      <td>0</td>\n      <td>0</td>\n      <td>...</td>\n      <td>1100</td>\n      <td>1200</td>\n      <td>1500</td>\n      <td>0</td>\n      <td>0</td>\n      <td>0</td>\n      <td>0</td>\n      <td>0</td>\n      <td>0</td>\n      <td>0</td>\n    </tr>\n    <tr>\n      <th>201902</th>\n      <td>0</td>\n      <td>0</td>\n      <td>0</td>\n      <td>0</td>\n      <td>0</td>\n      <td>0</td>\n      <td>0</td>\n      <td>2400</td>\n      <td>0</td>\n      <td>0</td>\n      <td>...</td>\n      <td>0</td>\n      <td>0</td>\n      <td>0</td>\n      <td>0</td>\n      <td>0</td>\n      <td>1900</td>\n      <td>2000</td>\n      <td>2200</td>\n      <td>0</td>\n      <td>0</td>\n    </tr>\n    <tr>\n      <th>201903</th>\n      <td>0</td>\n      <td>0</td>\n      <td>500</td>\n      <td>1300</td>\n      <td>1600</td>\n      <td>0</td>\n      <td>0</td>\n      <td>0</td>\n      <td>0</td>\n      <td>0</td>\n      <td>...</td>\n      <td>0</td>\n      <td>0</td>\n      <td>0</td>\n      <td>0</td>\n      <td>0</td>\n      <td>0</td>\n      <td>0</td>\n      <td>0</td>\n      <td>0</td>\n      <td>0</td>\n    </tr>\n    <tr>\n      <th>201904</th>\n      <td>2300</td>\n      <td>0</td>\n      <td>0</td>\n      <td>0</td>\n      <td>0</td>\n      <td>0</td>\n      <td>0</td>\n      <td>0</td>\n      <td>0</td>\n      <td>1700</td>\n      <td>...</td>\n      <td>0</td>\n      <td>0</td>\n      <td>0</td>\n      <td>0</td>\n      <td>0</td>\n      <td>1900</td>\n      <td>0</td>\n      <td>0</td>\n      <td>0</td>\n      <td>0</td>\n    </tr>\n    <tr>\n      <th>201905</th>\n      <td>0</td>\n      <td>0</td>\n      <td>0</td>\n      <td>0</td>\n      <td>0</td>\n      <td>1900</td>\n      <td>0</td>\n      <td>0</td>\n      <td>0</td>\n      <td>0</td>\n      <td>...</td>\n      <td>0</td>\n      <td>1200</td>\n      <td>0</td>\n      <td>0</td>\n      <td>0</td>\n      <td>0</td>\n      <td>0</td>\n      <td>0</td>\n      <td>0</td>\n      <td>2500</td>\n    </tr>\n    <tr>\n      <th>201906</th>\n      <td>0</td>\n      <td>0</td>\n      <td>0</td>\n      <td>0</td>\n      <td>0</td>\n      <td>0</td>\n      <td>2300</td>\n      <td>0</td>\n      <td>0</td>\n      <td>0</td>\n      <td>...</td>\n      <td>0</td>\n      <td>0</td>\n      <td>0</td>\n      <td>1600</td>\n      <td>0</td>\n      <td>0</td>\n      <td>0</td>\n      <td>0</td>\n      <td>2400</td>\n      <td>0</td>\n    </tr>\n    <tr>\n      <th>201907</th>\n      <td>0</td>\n      <td>0</td>\n      <td>0</td>\n      <td>0</td>\n      <td>0</td>\n      <td>0</td>\n      <td>0</td>\n      <td>0</td>\n      <td>0</td>\n      <td>0</td>\n      <td>...</td>\n      <td>0</td>\n      <td>0</td>\n      <td>1500</td>\n      <td>0</td>\n      <td>1800</td>\n      <td>0</td>\n      <td>0</td>\n      <td>0</td>\n      <td>0</td>\n      <td>0</td>\n    </tr>\n  </tbody>\n</table>\n<p>7 rows × 99 columns</p>\n</div>"
     },
     "metadata": {},
     "execution_count": 9
    }
   ],
   "source": [
    "uriage_data.pivot_table(index='purchase_month', columns='item_name', values='item_price', aggfunc='sum', fill_value=0)"
   ]
  },
  {
   "cell_type": "code",
   "execution_count": 10,
   "metadata": {},
   "outputs": [
    {
     "output_type": "stream",
     "name": "stdout",
     "text": [
      "99\n"
     ]
    }
   ],
   "source": [
    "print(len(pd.unique(uriage_data.item_name)))"
   ]
  },
  {
   "cell_type": "code",
   "execution_count": 11,
   "metadata": {},
   "outputs": [
    {
     "output_type": "execute_result",
     "data": {
      "text/plain": [
       "           purchase_date item_name  item_price customer_name purchase_month\n",
       "0    2019-06-13 18:02:34       商品A       100.0         深井菜々美         201906\n",
       "1748 2019-05-19 20:22:22       商品A       100.0          松川綾女         201905\n",
       "223  2019-06-25 08:13:20       商品A       100.0           板橋隆         201906\n",
       "1742 2019-06-13 16:03:17       商品A       100.0          小平陽子         201906\n",
       "1738 2019-02-10 00:28:43       商品A       100.0          松田浩正         201902\n",
       "...                  ...       ...         ...           ...            ...\n",
       "2880 2019-04-22 00:36:52       商品Y         NaN          田辺光洋         201904\n",
       "2881 2019-04-30 14:21:09       商品Y         NaN          高原充則         201904\n",
       "1525 2019-01-24 10:27:23       商品Y      2500.0         五十嵐春樹         201901\n",
       "1361 2019-05-28 13:45:32       商品Y      2500.0         大崎ヒカル         201905\n",
       "3    2019-02-12 23:40:45       商品Z      2600.0          麻生莉緒         201902\n",
       "\n",
       "[2999 rows x 5 columns]"
      ],
      "text/html": "<div>\n<style scoped>\n    .dataframe tbody tr th:only-of-type {\n        vertical-align: middle;\n    }\n\n    .dataframe tbody tr th {\n        vertical-align: top;\n    }\n\n    .dataframe thead th {\n        text-align: right;\n    }\n</style>\n<table border=\"1\" class=\"dataframe\">\n  <thead>\n    <tr style=\"text-align: right;\">\n      <th></th>\n      <th>purchase_date</th>\n      <th>item_name</th>\n      <th>item_price</th>\n      <th>customer_name</th>\n      <th>purchase_month</th>\n    </tr>\n  </thead>\n  <tbody>\n    <tr>\n      <th>0</th>\n      <td>2019-06-13 18:02:34</td>\n      <td>商品A</td>\n      <td>100.0</td>\n      <td>深井菜々美</td>\n      <td>201906</td>\n    </tr>\n    <tr>\n      <th>1748</th>\n      <td>2019-05-19 20:22:22</td>\n      <td>商品A</td>\n      <td>100.0</td>\n      <td>松川綾女</td>\n      <td>201905</td>\n    </tr>\n    <tr>\n      <th>223</th>\n      <td>2019-06-25 08:13:20</td>\n      <td>商品A</td>\n      <td>100.0</td>\n      <td>板橋隆</td>\n      <td>201906</td>\n    </tr>\n    <tr>\n      <th>1742</th>\n      <td>2019-06-13 16:03:17</td>\n      <td>商品A</td>\n      <td>100.0</td>\n      <td>小平陽子</td>\n      <td>201906</td>\n    </tr>\n    <tr>\n      <th>1738</th>\n      <td>2019-02-10 00:28:43</td>\n      <td>商品A</td>\n      <td>100.0</td>\n      <td>松田浩正</td>\n      <td>201902</td>\n    </tr>\n    <tr>\n      <th>...</th>\n      <td>...</td>\n      <td>...</td>\n      <td>...</td>\n      <td>...</td>\n      <td>...</td>\n    </tr>\n    <tr>\n      <th>2880</th>\n      <td>2019-04-22 00:36:52</td>\n      <td>商品Y</td>\n      <td>NaN</td>\n      <td>田辺光洋</td>\n      <td>201904</td>\n    </tr>\n    <tr>\n      <th>2881</th>\n      <td>2019-04-30 14:21:09</td>\n      <td>商品Y</td>\n      <td>NaN</td>\n      <td>高原充則</td>\n      <td>201904</td>\n    </tr>\n    <tr>\n      <th>1525</th>\n      <td>2019-01-24 10:27:23</td>\n      <td>商品Y</td>\n      <td>2500.0</td>\n      <td>五十嵐春樹</td>\n      <td>201901</td>\n    </tr>\n    <tr>\n      <th>1361</th>\n      <td>2019-05-28 13:45:32</td>\n      <td>商品Y</td>\n      <td>2500.0</td>\n      <td>大崎ヒカル</td>\n      <td>201905</td>\n    </tr>\n    <tr>\n      <th>3</th>\n      <td>2019-02-12 23:40:45</td>\n      <td>商品Z</td>\n      <td>2600.0</td>\n      <td>麻生莉緒</td>\n      <td>201902</td>\n    </tr>\n  </tbody>\n</table>\n<p>2999 rows × 5 columns</p>\n</div>"
     },
     "metadata": {},
     "execution_count": 11
    }
   ],
   "source": [
    "uriage_data['item_name'] = uriage_data['item_name'].str.upper()\n",
    "uriage_data['item_name'] = uriage_data['item_name'].str.replace('　', '')\n",
    "uriage_data['item_name'] = uriage_data['item_name'].str.replace(' ', '')\n",
    "uriage_data.sort_values(by=['item_name'], ascending=True)"
   ]
  },
  {
   "cell_type": "code",
   "execution_count": 12,
   "metadata": {},
   "outputs": [
    {
     "output_type": "stream",
     "name": "stdout",
     "text": [
      "26\n"
     ]
    }
   ],
   "source": [
    "print(len(pd.unique(uriage_data.item_name)))"
   ]
  },
  {
   "cell_type": "code",
   "execution_count": 14,
   "metadata": {},
   "outputs": [
    {
     "output_type": "execute_result",
     "data": {
      "text/plain": [
       "purchase_date     False\n",
       "item_name         False\n",
       "item_price         True\n",
       "customer_name     False\n",
       "purchase_month    False\n",
       "dtype: bool"
      ]
     },
     "metadata": {},
     "execution_count": 14
    }
   ],
   "source": [
    "uriage_data.isnull().any(axis=0)"
   ]
  },
  {
   "cell_type": "code",
   "execution_count": 17,
   "metadata": {},
   "outputs": [
    {
     "output_type": "execute_result",
     "data": {
      "text/plain": [
       "array(['商品S', '商品A', '商品P', '商品N', '商品W', '商品R', '商品I', '商品L', '商品F',\n",
       "       '商品O', '商品B', '商品C', '商品V', '商品Q', '商品U', '商品K', '商品T', '商品X',\n",
       "       '商品E', '商品M', '商品G', '商品J', '商品D', '商品H', '商品Y'], dtype=object)"
      ]
     },
     "metadata": {},
     "execution_count": 17
    }
   ],
   "source": [
    "flg_is_null = uriage_data['item_price'].isnull()\n",
    "uriage_data.loc[flg_is_null, 'item_name'].unique()"
   ]
  },
  {
   "cell_type": "code",
   "execution_count": 20,
   "metadata": {},
   "outputs": [
    {
     "output_type": "execute_result",
     "data": {
      "text/plain": [
       "        purchase_date item_name  item_price customer_name purchase_month\n",
       "0 2019-06-13 18:02:34       商品A       100.0         深井菜々美         201906\n",
       "1 2019-07-13 13:05:29       商品S      1900.0          浅田賢二         201907\n",
       "2 2019-05-11 19:42:07       商品A       100.0          南部慶二         201905\n",
       "3 2019-02-12 23:40:45       商品Z      2600.0          麻生莉緒         201902\n",
       "4 2019-04-22 03:09:35       商品A       100.0          平田鉄二         201904"
      ],
      "text/html": "<div>\n<style scoped>\n    .dataframe tbody tr th:only-of-type {\n        vertical-align: middle;\n    }\n\n    .dataframe tbody tr th {\n        vertical-align: top;\n    }\n\n    .dataframe thead th {\n        text-align: right;\n    }\n</style>\n<table border=\"1\" class=\"dataframe\">\n  <thead>\n    <tr style=\"text-align: right;\">\n      <th></th>\n      <th>purchase_date</th>\n      <th>item_name</th>\n      <th>item_price</th>\n      <th>customer_name</th>\n      <th>purchase_month</th>\n    </tr>\n  </thead>\n  <tbody>\n    <tr>\n      <th>0</th>\n      <td>2019-06-13 18:02:34</td>\n      <td>商品A</td>\n      <td>100.0</td>\n      <td>深井菜々美</td>\n      <td>201906</td>\n    </tr>\n    <tr>\n      <th>1</th>\n      <td>2019-07-13 13:05:29</td>\n      <td>商品S</td>\n      <td>1900.0</td>\n      <td>浅田賢二</td>\n      <td>201907</td>\n    </tr>\n    <tr>\n      <th>2</th>\n      <td>2019-05-11 19:42:07</td>\n      <td>商品A</td>\n      <td>100.0</td>\n      <td>南部慶二</td>\n      <td>201905</td>\n    </tr>\n    <tr>\n      <th>3</th>\n      <td>2019-02-12 23:40:45</td>\n      <td>商品Z</td>\n      <td>2600.0</td>\n      <td>麻生莉緒</td>\n      <td>201902</td>\n    </tr>\n    <tr>\n      <th>4</th>\n      <td>2019-04-22 03:09:35</td>\n      <td>商品A</td>\n      <td>100.0</td>\n      <td>平田鉄二</td>\n      <td>201904</td>\n    </tr>\n  </tbody>\n</table>\n</div>"
     },
     "metadata": {},
     "execution_count": 20
    }
   ],
   "source": [
    "flg_is_null = uriage_data[\"item_price\"].isnull()\n",
    "for trg in list(uriage_data.loc[flg_is_null, \"item_name\"].unique()):\n",
    "    price = uriage_data.loc[(~flg_is_null) & (uriage_data[\"item_name\"] == trg), \"item_price\"].max()\n",
    "    uriage_data[\"item_price\"].loc[(flg_is_null) & (uriage_data[\"item_name\"]==trg)] = price\n",
    "uriage_data.head()"
   ]
  },
  {
   "cell_type": "code",
   "execution_count": 23,
   "metadata": {},
   "outputs": [
    {
     "output_type": "stream",
     "name": "stdout",
     "text": [
      "商品Aの最大値:100.0\n商品Aの最小値:100.0\n商品Bの最大値:200.0\n商品Bの最小値:200.0\n商品Cの最大値:300.0\n商品Cの最小値:300.0\n商品Dの最大値:400.0\n商品Dの最小値:400.0\n商品Eの最大値:500.0\n商品Eの最小値:500.0\n商品Fの最大値:600.0\n商品Fの最小値:600.0\n商品Gの最大値:700.0\n商品Gの最小値:700.0\n商品Hの最大値:800.0\n商品Hの最小値:800.0\n商品Iの最大値:900.0\n商品Iの最小値:900.0\n商品Jの最大値:1000.0\n商品Jの最小値:1000.0\n商品Kの最大値:1100.0\n商品Kの最小値:1100.0\n商品Lの最大値:1200.0\n商品Lの最小値:1200.0\n商品Mの最大値:1300.0\n商品Mの最小値:1300.0\n商品Nの最大値:1400.0\n商品Nの最小値:1400.0\n商品Oの最大値:1500.0\n商品Oの最小値:1500.0\n商品Pの最大値:1600.0\n商品Pの最小値:1600.0\n商品Qの最大値:1700.0\n商品Qの最小値:1700.0\n商品Rの最大値:1800.0\n商品Rの最小値:1800.0\n商品Sの最大値:1900.0\n商品Sの最小値:1900.0\n商品Tの最大値:2000.0\n商品Tの最小値:2000.0\n商品Uの最大値:2100.0\n商品Uの最小値:2100.0\n商品Vの最大値:2200.0\n商品Vの最小値:2200.0\n商品Wの最大値:2300.0\n商品Wの最小値:2300.0\n商品Xの最大値:2400.0\n商品Xの最小値:2400.0\n商品Yの最大値:2500.0\n商品Yの最小値:2500.0\n商品Zの最大値:2600.0\n商品Zの最小値:2600.0\n"
     ]
    }
   ],
   "source": [
    "for trg in list(uriage_data['item_name'].sort_values().unique()):\n",
    "    print(trg + 'の最大値:' + str(uriage_data.loc[uriage_data['item_name']==trg]['item_price'].max()))\n",
    "    print(trg + 'の最小値:' + str(uriage_data.loc[uriage_data['item_name']==trg]['item_price'].min()))"
   ]
  },
  {
   "cell_type": "code",
   "execution_count": 24,
   "metadata": {},
   "outputs": [
    {
     "output_type": "execute_result",
     "data": {
      "text/plain": [
       "      顧客名        かな  地域                     メールアドレス         登録日\n",
       "0   須賀ひとみ    すが ひとみ  H市     suga_hitomi@example.com  2018/01/04\n",
       "1  岡田　 敏也   おかだ としや  E市   okada_toshiya@example.com       42782\n",
       "2    芳賀 希    はが のぞみ  A市     haga_nozomi@example.com  2018/01/07\n",
       "3   荻野  愛    おぎの あい  F市        ogino_ai@example.com       42872\n",
       "4   栗田 憲一  くりた けんいち  E市  kurita_kenichi@example.com       43127"
      ],
      "text/html": "<div>\n<style scoped>\n    .dataframe tbody tr th:only-of-type {\n        vertical-align: middle;\n    }\n\n    .dataframe tbody tr th {\n        vertical-align: top;\n    }\n\n    .dataframe thead th {\n        text-align: right;\n    }\n</style>\n<table border=\"1\" class=\"dataframe\">\n  <thead>\n    <tr style=\"text-align: right;\">\n      <th></th>\n      <th>顧客名</th>\n      <th>かな</th>\n      <th>地域</th>\n      <th>メールアドレス</th>\n      <th>登録日</th>\n    </tr>\n  </thead>\n  <tbody>\n    <tr>\n      <th>0</th>\n      <td>須賀ひとみ</td>\n      <td>すが ひとみ</td>\n      <td>H市</td>\n      <td>suga_hitomi@example.com</td>\n      <td>2018/01/04</td>\n    </tr>\n    <tr>\n      <th>1</th>\n      <td>岡田　 敏也</td>\n      <td>おかだ としや</td>\n      <td>E市</td>\n      <td>okada_toshiya@example.com</td>\n      <td>42782</td>\n    </tr>\n    <tr>\n      <th>2</th>\n      <td>芳賀 希</td>\n      <td>はが のぞみ</td>\n      <td>A市</td>\n      <td>haga_nozomi@example.com</td>\n      <td>2018/01/07</td>\n    </tr>\n    <tr>\n      <th>3</th>\n      <td>荻野  愛</td>\n      <td>おぎの あい</td>\n      <td>F市</td>\n      <td>ogino_ai@example.com</td>\n      <td>42872</td>\n    </tr>\n    <tr>\n      <th>4</th>\n      <td>栗田 憲一</td>\n      <td>くりた けんいち</td>\n      <td>E市</td>\n      <td>kurita_kenichi@example.com</td>\n      <td>43127</td>\n    </tr>\n  </tbody>\n</table>\n</div>"
     },
     "metadata": {},
     "execution_count": 24
    }
   ],
   "source": [
    "kokyaku_data.head()"
   ]
  },
  {
   "cell_type": "code",
   "execution_count": 26,
   "metadata": {},
   "outputs": [],
   "source": [
    "kokyaku_data['顧客名'] = kokyaku_data['顧客名'].str.replace('　', '')\n",
    "kokyaku_data['顧客名'] = kokyaku_data['顧客名'].str.replace(' ', '')"
   ]
  },
  {
   "cell_type": "code",
   "execution_count": 27,
   "metadata": {},
   "outputs": [
    {
     "output_type": "execute_result",
     "data": {
      "text/plain": [
       "     顧客名        かな  地域                     メールアドレス         登録日\n",
       "0  須賀ひとみ    すが ひとみ  H市     suga_hitomi@example.com  2018/01/04\n",
       "1   岡田敏也   おかだ としや  E市   okada_toshiya@example.com       42782\n",
       "2    芳賀希    はが のぞみ  A市     haga_nozomi@example.com  2018/01/07\n",
       "3    荻野愛    おぎの あい  F市        ogino_ai@example.com       42872\n",
       "4   栗田憲一  くりた けんいち  E市  kurita_kenichi@example.com       43127"
      ],
      "text/html": "<div>\n<style scoped>\n    .dataframe tbody tr th:only-of-type {\n        vertical-align: middle;\n    }\n\n    .dataframe tbody tr th {\n        vertical-align: top;\n    }\n\n    .dataframe thead th {\n        text-align: right;\n    }\n</style>\n<table border=\"1\" class=\"dataframe\">\n  <thead>\n    <tr style=\"text-align: right;\">\n      <th></th>\n      <th>顧客名</th>\n      <th>かな</th>\n      <th>地域</th>\n      <th>メールアドレス</th>\n      <th>登録日</th>\n    </tr>\n  </thead>\n  <tbody>\n    <tr>\n      <th>0</th>\n      <td>須賀ひとみ</td>\n      <td>すが ひとみ</td>\n      <td>H市</td>\n      <td>suga_hitomi@example.com</td>\n      <td>2018/01/04</td>\n    </tr>\n    <tr>\n      <th>1</th>\n      <td>岡田敏也</td>\n      <td>おかだ としや</td>\n      <td>E市</td>\n      <td>okada_toshiya@example.com</td>\n      <td>42782</td>\n    </tr>\n    <tr>\n      <th>2</th>\n      <td>芳賀希</td>\n      <td>はが のぞみ</td>\n      <td>A市</td>\n      <td>haga_nozomi@example.com</td>\n      <td>2018/01/07</td>\n    </tr>\n    <tr>\n      <th>3</th>\n      <td>荻野愛</td>\n      <td>おぎの あい</td>\n      <td>F市</td>\n      <td>ogino_ai@example.com</td>\n      <td>42872</td>\n    </tr>\n    <tr>\n      <th>4</th>\n      <td>栗田憲一</td>\n      <td>くりた けんいち</td>\n      <td>E市</td>\n      <td>kurita_kenichi@example.com</td>\n      <td>43127</td>\n    </tr>\n  </tbody>\n</table>\n</div>"
     },
     "metadata": {},
     "execution_count": 27
    }
   ],
   "source": [
    "kokyaku_data.head()"
   ]
  },
  {
   "cell_type": "code",
   "execution_count": 30,
   "metadata": {},
   "outputs": [
    {
     "output_type": "execute_result",
     "data": {
      "text/plain": [
       "22"
      ]
     },
     "metadata": {},
     "execution_count": 30
    }
   ],
   "source": [
    "flg_is_serial = kokyaku_data['登録日'].astype('str').str.isdigit()\n",
    "flg_is_serial.sum()"
   ]
  },
  {
   "cell_type": "code",
   "execution_count": 31,
   "metadata": {},
   "outputs": [],
   "source": [
    "fromSerial = pd.to_timedelta(kokyaku_data.loc[flg_is_serial, '登録日'].astype('float'), unit='D') + pd.to_datetime('1900/01/01')"
   ]
  },
  {
   "cell_type": "code",
   "execution_count": 34,
   "metadata": {},
   "outputs": [
    {
     "output_type": "execute_result",
     "data": {
      "text/plain": [
       "0     2018-01-04\n",
       "2     2018-01-07\n",
       "5     2017-06-20\n",
       "6     2018-06-11\n",
       "7     2017-05-19\n",
       "         ...    \n",
       "195   2017-06-20\n",
       "196   2018-06-20\n",
       "197   2017-04-29\n",
       "198   2019-04-19\n",
       "199   2019-04-23\n",
       "Name: 登録日, Length: 178, dtype: datetime64[ns]"
      ]
     },
     "metadata": {},
     "execution_count": 34
    }
   ],
   "source": [
    "fromString = pd.to_datetime(kokyaku_data.loc[~flg_is_serial, '登録日'])\n",
    "fromString"
   ]
  },
  {
   "cell_type": "code",
   "execution_count": 35,
   "metadata": {},
   "outputs": [],
   "source": [
    "kokyaku_data['登録日'] = pd.concat([fromSerial, fromString])\n"
   ]
  },
  {
   "cell_type": "code",
   "execution_count": 37,
   "metadata": {},
   "outputs": [
    {
     "output_type": "stream",
     "name": "stdout",
     "text": [
      "登録年月\n201701    15\n201702    11\n201703    14\n201704    15\n201705    13\n201706    14\n201707    17\n201801    13\n201802    15\n201803    17\n201804     5\n201805    19\n201806    13\n201807    17\n201904     2\nName: 顧客名, dtype: int64\n200\n"
     ]
    }
   ],
   "source": [
    "kokyaku_data['登録年月'] = kokyaku_data['登録日'].dt.strftime('%Y%m')\n",
    "rslt = kokyaku_data.groupby('登録年月').count()['顧客名']\n",
    "print(rslt)\n",
    "print(len(kokyaku_data))"
   ]
  },
  {
   "cell_type": "code",
   "execution_count": 38,
   "metadata": {},
   "outputs": [
    {
     "output_type": "execute_result",
     "data": {
      "text/plain": [
       "0"
      ]
     },
     "metadata": {},
     "execution_count": 38
    }
   ],
   "source": [
    "flg_is_serial = kokyaku_data['登録日'].astype('str').str.isdigit()\n",
    "flg_is_serial.sum()"
   ]
  },
  {
   "cell_type": "code",
   "execution_count": 39,
   "metadata": {},
   "outputs": [
    {
     "output_type": "execute_result",
     "data": {
      "text/plain": [
       "           purchase_date item_name  item_price purchase_month    顧客名  \\\n",
       "0    2019-06-13 18:02:34       商品A       100.0         201906  深井菜々美   \n",
       "1    2019-07-13 13:05:29       商品S      1900.0         201907   浅田賢二   \n",
       "2    2019-05-11 19:42:07       商品A       100.0         201905   南部慶二   \n",
       "3    2019-02-12 23:40:45       商品Z      2600.0         201902   麻生莉緒   \n",
       "4    2019-04-22 03:09:35       商品A       100.0         201904   平田鉄二   \n",
       "...                  ...       ...         ...            ...    ...   \n",
       "2994 2019-02-15 02:56:39       商品Y      2500.0         201902   福島友也   \n",
       "2995 2019-06-22 04:03:43       商品M      1300.0         201906   大倉晃司   \n",
       "2996 2019-03-29 11:14:05       商品Q      1700.0         201903   尾形小雁   \n",
       "2997 2019-07-14 12:56:49       商品H       800.0         201907   芦田博之   \n",
       "2998 2019-07-21 00:31:36       商品D       400.0         201907   石田郁恵   \n",
       "\n",
       "            かな  地域                       メールアドレス        登録日    登録年月  \n",
       "0      ふかい ななみ  C市      fukai_nanami@example.com 2017-01-26  201701  \n",
       "1      あさだ けんじ  C市       asada_kenji@example.com 2018-04-07  201804  \n",
       "2      なんぶ けいじ  A市      nannbu_keiji@example.com 2018-06-19  201806  \n",
       "3       あそう りお  D市          asou_rio@example.com 2018-07-22  201807  \n",
       "4      ひらた てつじ  D市    hirata_tetsuji@example.com 2017-06-07  201706  \n",
       "...        ...  ..                           ...        ...     ...  \n",
       "2994  ふくしま ともや  B市  fukushima_tomoya@example.com 2017-07-01  201707  \n",
       "2995  おおくら こうじ  E市      ookura_kouji@example.com 2018-03-31  201803  \n",
       "2996   おがた こがん  B市       ogata_kogan@example.com 2017-03-15  201703  \n",
       "2997  あしだ ひろゆき  E市   ashida_hiroyuki@example.com 2018-07-15  201807  \n",
       "2998   いしだ いくえ  B市       ishida_ikue@example.com 2017-02-05  201702  \n",
       "\n",
       "[2999 rows x 10 columns]"
      ],
      "text/html": "<div>\n<style scoped>\n    .dataframe tbody tr th:only-of-type {\n        vertical-align: middle;\n    }\n\n    .dataframe tbody tr th {\n        vertical-align: top;\n    }\n\n    .dataframe thead th {\n        text-align: right;\n    }\n</style>\n<table border=\"1\" class=\"dataframe\">\n  <thead>\n    <tr style=\"text-align: right;\">\n      <th></th>\n      <th>purchase_date</th>\n      <th>item_name</th>\n      <th>item_price</th>\n      <th>purchase_month</th>\n      <th>顧客名</th>\n      <th>かな</th>\n      <th>地域</th>\n      <th>メールアドレス</th>\n      <th>登録日</th>\n      <th>登録年月</th>\n    </tr>\n  </thead>\n  <tbody>\n    <tr>\n      <th>0</th>\n      <td>2019-06-13 18:02:34</td>\n      <td>商品A</td>\n      <td>100.0</td>\n      <td>201906</td>\n      <td>深井菜々美</td>\n      <td>ふかい ななみ</td>\n      <td>C市</td>\n      <td>fukai_nanami@example.com</td>\n      <td>2017-01-26</td>\n      <td>201701</td>\n    </tr>\n    <tr>\n      <th>1</th>\n      <td>2019-07-13 13:05:29</td>\n      <td>商品S</td>\n      <td>1900.0</td>\n      <td>201907</td>\n      <td>浅田賢二</td>\n      <td>あさだ けんじ</td>\n      <td>C市</td>\n      <td>asada_kenji@example.com</td>\n      <td>2018-04-07</td>\n      <td>201804</td>\n    </tr>\n    <tr>\n      <th>2</th>\n      <td>2019-05-11 19:42:07</td>\n      <td>商品A</td>\n      <td>100.0</td>\n      <td>201905</td>\n      <td>南部慶二</td>\n      <td>なんぶ けいじ</td>\n      <td>A市</td>\n      <td>nannbu_keiji@example.com</td>\n      <td>2018-06-19</td>\n      <td>201806</td>\n    </tr>\n    <tr>\n      <th>3</th>\n      <td>2019-02-12 23:40:45</td>\n      <td>商品Z</td>\n      <td>2600.0</td>\n      <td>201902</td>\n      <td>麻生莉緒</td>\n      <td>あそう りお</td>\n      <td>D市</td>\n      <td>asou_rio@example.com</td>\n      <td>2018-07-22</td>\n      <td>201807</td>\n    </tr>\n    <tr>\n      <th>4</th>\n      <td>2019-04-22 03:09:35</td>\n      <td>商品A</td>\n      <td>100.0</td>\n      <td>201904</td>\n      <td>平田鉄二</td>\n      <td>ひらた てつじ</td>\n      <td>D市</td>\n      <td>hirata_tetsuji@example.com</td>\n      <td>2017-06-07</td>\n      <td>201706</td>\n    </tr>\n    <tr>\n      <th>...</th>\n      <td>...</td>\n      <td>...</td>\n      <td>...</td>\n      <td>...</td>\n      <td>...</td>\n      <td>...</td>\n      <td>...</td>\n      <td>...</td>\n      <td>...</td>\n      <td>...</td>\n    </tr>\n    <tr>\n      <th>2994</th>\n      <td>2019-02-15 02:56:39</td>\n      <td>商品Y</td>\n      <td>2500.0</td>\n      <td>201902</td>\n      <td>福島友也</td>\n      <td>ふくしま ともや</td>\n      <td>B市</td>\n      <td>fukushima_tomoya@example.com</td>\n      <td>2017-07-01</td>\n      <td>201707</td>\n    </tr>\n    <tr>\n      <th>2995</th>\n      <td>2019-06-22 04:03:43</td>\n      <td>商品M</td>\n      <td>1300.0</td>\n      <td>201906</td>\n      <td>大倉晃司</td>\n      <td>おおくら こうじ</td>\n      <td>E市</td>\n      <td>ookura_kouji@example.com</td>\n      <td>2018-03-31</td>\n      <td>201803</td>\n    </tr>\n    <tr>\n      <th>2996</th>\n      <td>2019-03-29 11:14:05</td>\n      <td>商品Q</td>\n      <td>1700.0</td>\n      <td>201903</td>\n      <td>尾形小雁</td>\n      <td>おがた こがん</td>\n      <td>B市</td>\n      <td>ogata_kogan@example.com</td>\n      <td>2017-03-15</td>\n      <td>201703</td>\n    </tr>\n    <tr>\n      <th>2997</th>\n      <td>2019-07-14 12:56:49</td>\n      <td>商品H</td>\n      <td>800.0</td>\n      <td>201907</td>\n      <td>芦田博之</td>\n      <td>あしだ ひろゆき</td>\n      <td>E市</td>\n      <td>ashida_hiroyuki@example.com</td>\n      <td>2018-07-15</td>\n      <td>201807</td>\n    </tr>\n    <tr>\n      <th>2998</th>\n      <td>2019-07-21 00:31:36</td>\n      <td>商品D</td>\n      <td>400.0</td>\n      <td>201907</td>\n      <td>石田郁恵</td>\n      <td>いしだ いくえ</td>\n      <td>B市</td>\n      <td>ishida_ikue@example.com</td>\n      <td>2017-02-05</td>\n      <td>201702</td>\n    </tr>\n  </tbody>\n</table>\n<p>2999 rows × 10 columns</p>\n</div>"
     },
     "metadata": {},
     "execution_count": 39
    }
   ],
   "source": [
    "join_data = pd.merge(uriage_data, kokyaku_data, left_on='customer_name', right_on='顧客名', how='left')\n",
    "join_data = join_data.drop('customer_name', axis=1)\n",
    "join_data"
   ]
  },
  {
   "cell_type": "code",
   "execution_count": 40,
   "metadata": {},
   "outputs": [],
   "source": [
    "import_data = pd.read_csv('dump_data.csv')\n",
    "\n"
   ]
  },
  {
   "cell_type": "code",
   "execution_count": 42,
   "metadata": {},
   "outputs": [],
   "source": [
    "byItem = import_data.pivot_table(index='purchase_month', columns='item_name', aggfunc='size', fill_value=0)"
   ]
  },
  {
   "cell_type": "code",
   "execution_count": 44,
   "metadata": {},
   "outputs": [],
   "source": [
    "byPrice = import_data.pivot_table(index='purchase_month', columns='item_name', values='item_price', aggfunc='sum', fill_value=0)\n"
   ]
  },
  {
   "cell_type": "code",
   "execution_count": 45,
   "metadata": {},
   "outputs": [
    {
     "output_type": "execute_result",
     "data": {
      "text/plain": [
       "item_name        商品A   商品B   商品C   商品D   商品E    商品F    商品G    商品H    商品I  \\\n",
       "purchase_month                                                             \n",
       "201901          1800  2600  5700  6800  9000   9000   7700  12800  16200   \n",
       "201902          1900  2800  7800  8400  8000   8400   9800  13600  10800   \n",
       "201903          1700  4200  6000  6800  4500  16200   9800  14400  10800   \n",
       "201904          1700  3800  7200  8000  9000  10200   9800   8800  16200   \n",
       "201905          2400  2800  4800  5600  9500  10800  16100  12000  14400   \n",
       "201906          2400  2400  3300  7600  6500  10800  10500  10400  17100   \n",
       "201907          2000  4000  5100  6800  6000  10200  13300  15200  17100   \n",
       "\n",
       "item_name         商品J  ...    商品Q    商品R    商品S    商品T    商品U    商品V    商品W  \\\n",
       "purchase_month         ...                                                    \n",
       "201901          17000  ...  28900  37800  38000  34000  14700  48400  29900   \n",
       "201902          14000  ...  37400  39600  41800  46000  39900  48400  55200   \n",
       "201903          16000  ...  39100  28800  38000  24000  48300  39600  36800   \n",
       "201904          13000  ...  34000  36000  30400  32000  23100  33000  32200   \n",
       "201905          11000  ...  22100  39600  34200  32000  33600  19800  48300   \n",
       "201906          22000  ...  25500  28800  39900  24000  37800  44000  39100   \n",
       "201907          23000  ...  25500  34200  43700  42000  27300  61600  36800   \n",
       "\n",
       "item_name         商品X    商品Y   商品Z  \n",
       "purchase_month                      \n",
       "201901          33600  25000     0  \n",
       "201902          38400  27500  2600  \n",
       "201903          50400  40000     0  \n",
       "201904          38400  50000     0  \n",
       "201905          38400  50000     0  \n",
       "201906          36000  32500     0  \n",
       "201907          43200  30000     0  \n",
       "\n",
       "[7 rows x 26 columns]"
      ],
      "text/html": "<div>\n<style scoped>\n    .dataframe tbody tr th:only-of-type {\n        vertical-align: middle;\n    }\n\n    .dataframe tbody tr th {\n        vertical-align: top;\n    }\n\n    .dataframe thead th {\n        text-align: right;\n    }\n</style>\n<table border=\"1\" class=\"dataframe\">\n  <thead>\n    <tr style=\"text-align: right;\">\n      <th>item_name</th>\n      <th>商品A</th>\n      <th>商品B</th>\n      <th>商品C</th>\n      <th>商品D</th>\n      <th>商品E</th>\n      <th>商品F</th>\n      <th>商品G</th>\n      <th>商品H</th>\n      <th>商品I</th>\n      <th>商品J</th>\n      <th>...</th>\n      <th>商品Q</th>\n      <th>商品R</th>\n      <th>商品S</th>\n      <th>商品T</th>\n      <th>商品U</th>\n      <th>商品V</th>\n      <th>商品W</th>\n      <th>商品X</th>\n      <th>商品Y</th>\n      <th>商品Z</th>\n    </tr>\n    <tr>\n      <th>purchase_month</th>\n      <th></th>\n      <th></th>\n      <th></th>\n      <th></th>\n      <th></th>\n      <th></th>\n      <th></th>\n      <th></th>\n      <th></th>\n      <th></th>\n      <th></th>\n      <th></th>\n      <th></th>\n      <th></th>\n      <th></th>\n      <th></th>\n      <th></th>\n      <th></th>\n      <th></th>\n      <th></th>\n      <th></th>\n    </tr>\n  </thead>\n  <tbody>\n    <tr>\n      <th>201901</th>\n      <td>1800</td>\n      <td>2600</td>\n      <td>5700</td>\n      <td>6800</td>\n      <td>9000</td>\n      <td>9000</td>\n      <td>7700</td>\n      <td>12800</td>\n      <td>16200</td>\n      <td>17000</td>\n      <td>...</td>\n      <td>28900</td>\n      <td>37800</td>\n      <td>38000</td>\n      <td>34000</td>\n      <td>14700</td>\n      <td>48400</td>\n      <td>29900</td>\n      <td>33600</td>\n      <td>25000</td>\n      <td>0</td>\n    </tr>\n    <tr>\n      <th>201902</th>\n      <td>1900</td>\n      <td>2800</td>\n      <td>7800</td>\n      <td>8400</td>\n      <td>8000</td>\n      <td>8400</td>\n      <td>9800</td>\n      <td>13600</td>\n      <td>10800</td>\n      <td>14000</td>\n      <td>...</td>\n      <td>37400</td>\n      <td>39600</td>\n      <td>41800</td>\n      <td>46000</td>\n      <td>39900</td>\n      <td>48400</td>\n      <td>55200</td>\n      <td>38400</td>\n      <td>27500</td>\n      <td>2600</td>\n    </tr>\n    <tr>\n      <th>201903</th>\n      <td>1700</td>\n      <td>4200</td>\n      <td>6000</td>\n      <td>6800</td>\n      <td>4500</td>\n      <td>16200</td>\n      <td>9800</td>\n      <td>14400</td>\n      <td>10800</td>\n      <td>16000</td>\n      <td>...</td>\n      <td>39100</td>\n      <td>28800</td>\n      <td>38000</td>\n      <td>24000</td>\n      <td>48300</td>\n      <td>39600</td>\n      <td>36800</td>\n      <td>50400</td>\n      <td>40000</td>\n      <td>0</td>\n    </tr>\n    <tr>\n      <th>201904</th>\n      <td>1700</td>\n      <td>3800</td>\n      <td>7200</td>\n      <td>8000</td>\n      <td>9000</td>\n      <td>10200</td>\n      <td>9800</td>\n      <td>8800</td>\n      <td>16200</td>\n      <td>13000</td>\n      <td>...</td>\n      <td>34000</td>\n      <td>36000</td>\n      <td>30400</td>\n      <td>32000</td>\n      <td>23100</td>\n      <td>33000</td>\n      <td>32200</td>\n      <td>38400</td>\n      <td>50000</td>\n      <td>0</td>\n    </tr>\n    <tr>\n      <th>201905</th>\n      <td>2400</td>\n      <td>2800</td>\n      <td>4800</td>\n      <td>5600</td>\n      <td>9500</td>\n      <td>10800</td>\n      <td>16100</td>\n      <td>12000</td>\n      <td>14400</td>\n      <td>11000</td>\n      <td>...</td>\n      <td>22100</td>\n      <td>39600</td>\n      <td>34200</td>\n      <td>32000</td>\n      <td>33600</td>\n      <td>19800</td>\n      <td>48300</td>\n      <td>38400</td>\n      <td>50000</td>\n      <td>0</td>\n    </tr>\n    <tr>\n      <th>201906</th>\n      <td>2400</td>\n      <td>2400</td>\n      <td>3300</td>\n      <td>7600</td>\n      <td>6500</td>\n      <td>10800</td>\n      <td>10500</td>\n      <td>10400</td>\n      <td>17100</td>\n      <td>22000</td>\n      <td>...</td>\n      <td>25500</td>\n      <td>28800</td>\n      <td>39900</td>\n      <td>24000</td>\n      <td>37800</td>\n      <td>44000</td>\n      <td>39100</td>\n      <td>36000</td>\n      <td>32500</td>\n      <td>0</td>\n    </tr>\n    <tr>\n      <th>201907</th>\n      <td>2000</td>\n      <td>4000</td>\n      <td>5100</td>\n      <td>6800</td>\n      <td>6000</td>\n      <td>10200</td>\n      <td>13300</td>\n      <td>15200</td>\n      <td>17100</td>\n      <td>23000</td>\n      <td>...</td>\n      <td>25500</td>\n      <td>34200</td>\n      <td>43700</td>\n      <td>42000</td>\n      <td>27300</td>\n      <td>61600</td>\n      <td>36800</td>\n      <td>43200</td>\n      <td>30000</td>\n      <td>0</td>\n    </tr>\n  </tbody>\n</table>\n<p>7 rows × 26 columns</p>\n</div>"
     },
     "metadata": {},
     "execution_count": 45
    }
   ],
   "source": [
    "byPrice"
   ]
  },
  {
   "cell_type": "code",
   "execution_count": 46,
   "metadata": {},
   "outputs": [],
   "source": [
    "byCustomer = import_data.pivot_table(index='purchase_month', columns='顧客名', aggfunc='size', fill_value=0)"
   ]
  },
  {
   "cell_type": "code",
   "execution_count": 47,
   "metadata": {},
   "outputs": [
    {
     "output_type": "execute_result",
     "data": {
      "text/plain": [
       "顧客名             さだ千佳子  中仁晶  中田美智子  丸山光臣  久保田倫子  亀井一徳  五十嵐春樹  井上桃子  井口寛治  \\\n",
       "purchase_month                                                            \n",
       "201901              3    1      4     2      2     0      5     3     3   \n",
       "201902              9    1      2     2      1     4      2     1     0   \n",
       "201903              1    2      1     6      1     4      3     3     2   \n",
       "201904              0    3      1     2      0     2      2     0     3   \n",
       "201905              3    2      5     2      4     1      2     1     3   \n",
       "201906              1    3      0     4      1     1      1     2     2   \n",
       "201907              3    0      3     2      5     3      5     2     5   \n",
       "\n",
       "顧客名             井川真悠子  ...  香椎優一  高原充則  高梨結衣  高沢美咲  高田さんま  鳥居広司  鶴岡薫  麻生莉緒  \\\n",
       "purchase_month         ...                                                   \n",
       "201901              1  ...     0     1     1     1      5     2    0     2   \n",
       "201902              4  ...     4     0     3     2      0     1    2     4   \n",
       "201903              2  ...     3     1     6     2      4     2    4     2   \n",
       "201904              2  ...     2     4     2     3      4     3    2     1   \n",
       "201905              3  ...     1     1     1     0      2     2    3     4   \n",
       "201906              3  ...     7     3     0     2      1     0    2     1   \n",
       "201907              5  ...     2     4     4     2      0     2    4     3   \n",
       "\n",
       "顧客名             黄川田博之  黒谷長利  \n",
       "purchase_month               \n",
       "201901              2     5  \n",
       "201902              0     1  \n",
       "201903              2     1  \n",
       "201904              2     0  \n",
       "201905              4     1  \n",
       "201906              2     4  \n",
       "201907              4     1  \n",
       "\n",
       "[7 rows x 199 columns]"
      ],
      "text/html": "<div>\n<style scoped>\n    .dataframe tbody tr th:only-of-type {\n        vertical-align: middle;\n    }\n\n    .dataframe tbody tr th {\n        vertical-align: top;\n    }\n\n    .dataframe thead th {\n        text-align: right;\n    }\n</style>\n<table border=\"1\" class=\"dataframe\">\n  <thead>\n    <tr style=\"text-align: right;\">\n      <th>顧客名</th>\n      <th>さだ千佳子</th>\n      <th>中仁晶</th>\n      <th>中田美智子</th>\n      <th>丸山光臣</th>\n      <th>久保田倫子</th>\n      <th>亀井一徳</th>\n      <th>五十嵐春樹</th>\n      <th>井上桃子</th>\n      <th>井口寛治</th>\n      <th>井川真悠子</th>\n      <th>...</th>\n      <th>香椎優一</th>\n      <th>高原充則</th>\n      <th>高梨結衣</th>\n      <th>高沢美咲</th>\n      <th>高田さんま</th>\n      <th>鳥居広司</th>\n      <th>鶴岡薫</th>\n      <th>麻生莉緒</th>\n      <th>黄川田博之</th>\n      <th>黒谷長利</th>\n    </tr>\n    <tr>\n      <th>purchase_month</th>\n      <th></th>\n      <th></th>\n      <th></th>\n      <th></th>\n      <th></th>\n      <th></th>\n      <th></th>\n      <th></th>\n      <th></th>\n      <th></th>\n      <th></th>\n      <th></th>\n      <th></th>\n      <th></th>\n      <th></th>\n      <th></th>\n      <th></th>\n      <th></th>\n      <th></th>\n      <th></th>\n      <th></th>\n    </tr>\n  </thead>\n  <tbody>\n    <tr>\n      <th>201901</th>\n      <td>3</td>\n      <td>1</td>\n      <td>4</td>\n      <td>2</td>\n      <td>2</td>\n      <td>0</td>\n      <td>5</td>\n      <td>3</td>\n      <td>3</td>\n      <td>1</td>\n      <td>...</td>\n      <td>0</td>\n      <td>1</td>\n      <td>1</td>\n      <td>1</td>\n      <td>5</td>\n      <td>2</td>\n      <td>0</td>\n      <td>2</td>\n      <td>2</td>\n      <td>5</td>\n    </tr>\n    <tr>\n      <th>201902</th>\n      <td>9</td>\n      <td>1</td>\n      <td>2</td>\n      <td>2</td>\n      <td>1</td>\n      <td>4</td>\n      <td>2</td>\n      <td>1</td>\n      <td>0</td>\n      <td>4</td>\n      <td>...</td>\n      <td>4</td>\n      <td>0</td>\n      <td>3</td>\n      <td>2</td>\n      <td>0</td>\n      <td>1</td>\n      <td>2</td>\n      <td>4</td>\n      <td>0</td>\n      <td>1</td>\n    </tr>\n    <tr>\n      <th>201903</th>\n      <td>1</td>\n      <td>2</td>\n      <td>1</td>\n      <td>6</td>\n      <td>1</td>\n      <td>4</td>\n      <td>3</td>\n      <td>3</td>\n      <td>2</td>\n      <td>2</td>\n      <td>...</td>\n      <td>3</td>\n      <td>1</td>\n      <td>6</td>\n      <td>2</td>\n      <td>4</td>\n      <td>2</td>\n      <td>4</td>\n      <td>2</td>\n      <td>2</td>\n      <td>1</td>\n    </tr>\n    <tr>\n      <th>201904</th>\n      <td>0</td>\n      <td>3</td>\n      <td>1</td>\n      <td>2</td>\n      <td>0</td>\n      <td>2</td>\n      <td>2</td>\n      <td>0</td>\n      <td>3</td>\n      <td>2</td>\n      <td>...</td>\n      <td>2</td>\n      <td>4</td>\n      <td>2</td>\n      <td>3</td>\n      <td>4</td>\n      <td>3</td>\n      <td>2</td>\n      <td>1</td>\n      <td>2</td>\n      <td>0</td>\n    </tr>\n    <tr>\n      <th>201905</th>\n      <td>3</td>\n      <td>2</td>\n      <td>5</td>\n      <td>2</td>\n      <td>4</td>\n      <td>1</td>\n      <td>2</td>\n      <td>1</td>\n      <td>3</td>\n      <td>3</td>\n      <td>...</td>\n      <td>1</td>\n      <td>1</td>\n      <td>1</td>\n      <td>0</td>\n      <td>2</td>\n      <td>2</td>\n      <td>3</td>\n      <td>4</td>\n      <td>4</td>\n      <td>1</td>\n    </tr>\n    <tr>\n      <th>201906</th>\n      <td>1</td>\n      <td>3</td>\n      <td>0</td>\n      <td>4</td>\n      <td>1</td>\n      <td>1</td>\n      <td>1</td>\n      <td>2</td>\n      <td>2</td>\n      <td>3</td>\n      <td>...</td>\n      <td>7</td>\n      <td>3</td>\n      <td>0</td>\n      <td>2</td>\n      <td>1</td>\n      <td>0</td>\n      <td>2</td>\n      <td>1</td>\n      <td>2</td>\n      <td>4</td>\n    </tr>\n    <tr>\n      <th>201907</th>\n      <td>3</td>\n      <td>0</td>\n      <td>3</td>\n      <td>2</td>\n      <td>5</td>\n      <td>3</td>\n      <td>5</td>\n      <td>2</td>\n      <td>5</td>\n      <td>5</td>\n      <td>...</td>\n      <td>2</td>\n      <td>4</td>\n      <td>4</td>\n      <td>2</td>\n      <td>0</td>\n      <td>2</td>\n      <td>4</td>\n      <td>3</td>\n      <td>4</td>\n      <td>1</td>\n    </tr>\n  </tbody>\n</table>\n<p>7 rows × 199 columns</p>\n</div>"
     },
     "metadata": {},
     "execution_count": 47
    }
   ],
   "source": [
    "\n",
    "byCustomer"
   ]
  },
  {
   "cell_type": "code",
   "execution_count": null,
   "metadata": {},
   "outputs": [],
   "source": []
  }
 ]
}